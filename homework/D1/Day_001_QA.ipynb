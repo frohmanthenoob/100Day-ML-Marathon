{
 "cells": [
  {
   "cell_type": "markdown",
   "metadata": {},
   "source": [
    "作業1：\n",
    "\n",
    "請上 Kaggle, 在 Competitions 或 Dataset 中找一組競賽或資料並寫下：\n",
    "\n",
    "1. 你選的這組資料為何重要\n",
    "\n",
    "2. 資料從何而來 (tips: 譬如提供者是誰、以什麼方式蒐集)\n",
    "\n",
    "3. 蒐集而來的資料型態為何\n",
    "\n",
    "4. 這組資料想解決的問題如何評估"
   ]
  },
  {
   "cell_type": "markdown",
   "metadata": {},
   "source": [
    "### ANS:\n",
    "\n",
    "Kaggle Competition [LANL Earthquake Prediction](https://www.kaggle.com/c/LANL-Earthquake-Prediction)\n",
    "\n",
    "1. 為避免地震帶來災害，希望能找出準確的地震預測模型。\n",
    "\n",
    "2. 比賽由[Los Alamos National Laboratory](https://www.lanl.gov/)舉辦，資料來自[PennState](https://www.psu.edu//)實驗室資料。\n",
    "\n",
    "3. 為兩個 float 型態的資料，一個代表聲波一個代表距離地震還有幾秒。\n",
    "\n",
    "4. 最後評估項目為距離下次地震的秒數，回傳測試資料的秒數後以 mean absolute error 估計與真實秒數的差距。\n"
   ]
  },
  {
   "cell_type": "markdown",
   "metadata": {},
   "source": [
    "作業2：\n",
    "\n",
    "想像你經營一個自由載客車隊，你希望能透過數據分析以提升業績，請你思考並描述你如何規劃整體的分析/解決方案：\n",
    "\n",
    "1. 核心問題為何 (tips：如何定義 「提升業績 & 你的假設」)\n",
    "\n",
    "2. 資料從何而來 (tips：哪些資料可能會對你想問的問題產生影響 & 資料如何蒐集)\n",
    "\n",
    "3. 蒐集而來的資料型態為何\n",
    "\n",
    "4. 你要回答的問題，其如何評估 (tips：你的假設如何驗證)"
   ]
  },
  {
   "cell_type": "markdown",
   "metadata": {},
   "source": [
    "### ANS:\n",
    "\n",
    "1.提昇業績是指每月由載客獲得的淨利潤提昇。\n",
    "- 假設一︰有乘客從點近手機應用查詢相關資訊後沒有叫車或是已經叫車卻沒有完成交易。\n",
    "- 假設二：目前叫車資訊不足或是流程不如傳統車隊方便造成乘客尋找替代方案。\n",
    "\n",
    "2.如果是假設一可從手機收集使用者資料並且對車隊下每輛汽車交易時間與路線資料…進行收集；  \n",
    "如果是假設二可進行廣告投放並用填問卷送里程方式收集資料。\n",
    "\n",
    "3.蒐集來的資料型態可為boolen、float、string…。\n",
    "\n",
    "4.假設一可由貝氏定理算出機率最大的可能因素並擬訂策略改善，並於策略實施後一定天數用同一方法算機率改變。  \n",
    "假設二可追蹤問卷勾選未使用過車隊服務者送出的里程消耗評估。\n"
   ]
  },
  {
   "cell_type": "markdown",
   "metadata": {},
   "source": [
    "作業3：\n",
    "\n",
    "請點選下方檢視範例依照 Day_001_example_of_metrics.ipynb 完成 Mean Squared Error 的函式\n",
    "\n",
    "資料夾結構建立規則提醒：ML100 > data資料夾 & homework資料夾 (ipynb檔) \n",
    "\n",
    "(請注意data的存放位置，建議放在*.ipynb 同一個目錄下，這樣才能在不修改code的情況下正常執行)"
   ]
  },
  {
   "cell_type": "code",
   "execution_count": 2,
   "metadata": {},
   "outputs": [],
   "source": [
    "def mean_squared_error(y, y_hat):\n",
    "    return np.mean((y-y_hat)**2)"
   ]
  },
  {
   "cell_type": "code",
   "execution_count": null,
   "metadata": {},
   "outputs": [],
   "source": []
  }
 ],
 "metadata": {
  "kernelspec": {
   "display_name": "Python (life)",
   "language": "python",
   "name": "life"
  },
  "language_info": {
   "codemirror_mode": {
    "name": "ipython",
    "version": 3
   },
   "file_extension": ".py",
   "mimetype": "text/x-python",
   "name": "python",
   "nbconvert_exporter": "python",
   "pygments_lexer": "ipython3",
   "version": "3.7.0"
  }
 },
 "nbformat": 4,
 "nbformat_minor": 2
}
